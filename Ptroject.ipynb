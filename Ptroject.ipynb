{
 "cells": [
  {
   "cell_type": "markdown",
   "id": "65cab555-548f-4b80-a130-e6f7b19e9fbf",
   "metadata": {},
   "source": [
    "### Student Name: Amandeep Aulakh\n",
    "### Student Number: lkhm0039"
   ]
  },
  {
   "cell_type": "markdown",
   "id": "1eb4a7a6-c901-4017-aa5f-e5a22c7af206",
   "metadata": {},
   "source": [
    "### Question 1 \n",
    "### a.(35p) Detect the differences between the images below (left.jpg, right.jpg). Display the differences in a red color.\n",
    "### \n",
    "b\t(15p) Display only the differences with an area greater than a user-input threshold (default 100).\r\n"
   ]
  },
  {
   "cell_type": "code",
   "execution_count": 66,
   "id": "83c53aa6-fbd1-4eb8-b726-4f7717296682",
   "metadata": {},
   "outputs": [],
   "source": [
    "import cv2\n",
    "import numpy as np"
   ]
  },
  {
   "cell_type": "code",
   "execution_count": 128,
   "id": "563f7f67-9cce-4e9f-86ae-80b71189037c",
   "metadata": {},
   "outputs": [],
   "source": [
    "def highlight_differences(left_path, right_path, threshold=100):\n",
    "   \n",
    "    # Load the both images\n",
    "    left = cv2.imread(left_path)\n",
    "    right = cv2.imread(right_path)\n",
    "\n",
    "    # Convert both images to grayscale\n",
    "    left_gray = cv2.cvtColor(left, cv2.COLOR_BGR2GRAY)\n",
    "    right_gray = cv2.cvtColor(right, cv2.COLOR_BGR2GRAY)\n",
    "\n",
    "    # Compute the absolute difference between the two images\n",
    "    difference = cv2.absdiff( left_gray , right_gray)\n",
    "\n",
    "    # Threshold the difference image (to highlight the changes)\n",
    "    _, thresh = cv2.threshold(difference, 30, 255, cv2.THRESH_BINARY)\n",
    "\n",
    "    # Find contours of the differences\n",
    "    contours, _ = cv2.findContours(thresh, cv2.RETR_EXTERNAL, cv2.CHAIN_APPROX_SIMPLE)\n",
    "\n",
    "# Filter contours by area and highlight differences in red\n",
    "    for contour in contours:\n",
    "        area = cv2.contourArea(contour)\n",
    "        if area > threshold:\n",
    "            # Draw the contour on the original image in red\n",
    "            cv2.drawContours(left, [contour], -1, (0, 0, 255), 2)\n",
    "# Display the result\n",
    "    cv2.imshow('output', left)\n",
    "    cv2.waitKey(0)\n",
    "    cv2.destroyAllWindows()"
   ]
  },
  {
   "cell_type": "code",
   "execution_count": 130,
   "id": "048814f3-525b-4d1a-a213-69a82b7026c7",
   "metadata": {},
   "outputs": [],
   "source": [
    "# Set paths to your images\n",
    "left_path = 'left.jpg'\n",
    "right_path = 'right.jpg'"
   ]
  },
  {
   "cell_type": "code",
   "execution_count": 132,
   "id": "abb7bfea-7359-48a0-a6f3-9198aa8386fa",
   "metadata": {},
   "outputs": [],
   "source": [
    "#(b) Call the function with an area threshold (default 100)\n",
    "highlight_differences(left_path, right_path, threshold=100)"
   ]
  },
  {
   "cell_type": "markdown",
   "id": "ebe7076a-8a80-4efd-a9a0-08a63f698b63",
   "metadata": {},
   "source": [
    "## Question 2: Display the number of blue-ish objects in the following image (objects.png). Explain each step."
   ]
  },
  {
   "cell_type": "code",
   "execution_count": 58,
   "id": "1ee9808a-7e6d-44b1-8f77-770779b02a7b",
   "metadata": {},
   "outputs": [],
   "source": [
    "import cv2\n",
    "import numpy as np"
   ]
  },
  {
   "cell_type": "code",
   "execution_count": 171,
   "id": "0266dec6-b53e-420c-bb85-1870234be2d1",
   "metadata": {},
   "outputs": [],
   "source": [
    "# Load the image\n",
    "image = cv2.imread('objects.png')\n",
    "\n",
    "# Convert the image to the HSV color space\n",
    "image_hsv = cv2.cvtColor(image, cv2.COLOR_BGR2HSV)"
   ]
  },
  {
   "cell_type": "code",
   "execution_count": 173,
   "id": "6ed35e95-b12d-4a0e-84ce-7f7a26389ff2",
   "metadata": {},
   "outputs": [],
   "source": [
    "# Define the range for blue-ish colors in HSV\n",
    "# The exact range for blue colors can vary. We will focus on standard blue-ish hue ranges.\n",
    "blue_l = np.array([90, 50, 50])  # lower bound of blue hue\n",
    "blue_u = np.array([130, 255, 255])  # upper bound of blue hue"
   ]
  },
  {
   "cell_type": "code",
   "execution_count": 175,
   "id": "98e0b9ef-cee5-403b-8c5f-63f66d2aa95f",
   "metadata": {},
   "outputs": [],
   "source": [
    "# Create a mask that captures only the blue-ish areas\n",
    "blue_mask = cv2.inRange(image_hsv, blue_l, blue_u)"
   ]
  },
  {
   "cell_type": "code",
   "execution_count": 177,
   "id": "e619f553-60d9-4fe4-929e-977b718dd351",
   "metadata": {},
   "outputs": [],
   "source": [
    "# Find contours of the blue objects\n",
    "contours, _ = cv2.findContours(blue_mask, cv2.RETR_EXTERNAL, cv2.CHAIN_APPROX_SIMPLE)"
   ]
  },
  {
   "cell_type": "code",
   "execution_count": 179,
   "id": "4d0dcf6e-3812-43e1-9d37-0153f5a481be",
   "metadata": {},
   "outputs": [],
   "source": [
    "# Count the number of contours (blue objects)\n",
    "num_blue_objects = len(contours)"
   ]
  },
  {
   "cell_type": "code",
   "execution_count": 181,
   "id": "32c46986-b0b6-473d-bf09-50a882ec6691",
   "metadata": {},
   "outputs": [
    {
     "name": "stdout",
     "output_type": "stream",
     "text": [
      "Number of blue-ish objects: 3\n"
     ]
    }
   ],
   "source": [
    "# Output the number of blue-ish objects\n",
    "print(f'Number of blue-ish objects: {num_blue_objects}')"
   ]
  },
  {
   "cell_type": "code",
   "execution_count": 183,
   "id": "0654de84-853b-4fe5-95c5-7c77be7b494e",
   "metadata": {},
   "outputs": [
    {
     "data": {
      "text/plain": [
       "array([[[0, 0, 0],\n",
       "        [0, 0, 0],\n",
       "        [0, 0, 0],\n",
       "        ...,\n",
       "        [0, 0, 0],\n",
       "        [0, 0, 0],\n",
       "        [0, 0, 0]],\n",
       "\n",
       "       [[0, 0, 0],\n",
       "        [0, 0, 0],\n",
       "        [0, 0, 0],\n",
       "        ...,\n",
       "        [0, 0, 0],\n",
       "        [0, 0, 0],\n",
       "        [0, 0, 0]],\n",
       "\n",
       "       [[0, 0, 0],\n",
       "        [0, 0, 0],\n",
       "        [0, 0, 0],\n",
       "        ...,\n",
       "        [0, 0, 0],\n",
       "        [0, 0, 0],\n",
       "        [0, 0, 0]],\n",
       "\n",
       "       ...,\n",
       "\n",
       "       [[0, 0, 0],\n",
       "        [0, 0, 0],\n",
       "        [0, 0, 0],\n",
       "        ...,\n",
       "        [0, 0, 0],\n",
       "        [0, 0, 0],\n",
       "        [0, 0, 0]],\n",
       "\n",
       "       [[0, 0, 0],\n",
       "        [0, 0, 0],\n",
       "        [0, 0, 0],\n",
       "        ...,\n",
       "        [0, 0, 0],\n",
       "        [0, 0, 0],\n",
       "        [0, 0, 0]],\n",
       "\n",
       "       [[0, 0, 0],\n",
       "        [0, 0, 0],\n",
       "        [0, 0, 0],\n",
       "        ...,\n",
       "        [0, 0, 0],\n",
       "        [0, 0, 0],\n",
       "        [0, 0, 0]]], dtype=uint8)"
      ]
     },
     "execution_count": 183,
     "metadata": {},
     "output_type": "execute_result"
    }
   ],
   "source": [
    "# Optional: Visualize the result by drawing the contours on the original image\n",
    "output_image = image.copy()\n",
    "cv2.drawContours(output_image, contours, -1, (0, 255, 0), 2)"
   ]
  },
  {
   "cell_type": "code",
   "execution_count": 185,
   "id": "1b1da26b-1fe4-4e7c-ac18-b3e9fdc1a045",
   "metadata": {},
   "outputs": [],
   "source": [
    "# Display the original image and the blue mask\n",
    "cv2.imshow('Original Image', image)\n",
    "cv2.imshow('Blue Mask', blue_mask)\n",
    "cv2.imshow('Detected Blue Objects', output_image)\n",
    "cv2.waitKey(0)\n",
    "cv2.destroyAllWindows()\n"
   ]
  },
  {
   "cell_type": "markdown",
   "id": "fdf81bc2-3d32-48b5-ab7d-588672f05b06",
   "metadata": {},
   "source": [
    "Steps explained: \n",
    "Load the Image: We begin by loading the image where we need to identify the objects.\n",
    "Convert to HSV Color Space: Since blue is better captured in the HSV color space (Hue, Saturation, Value), we convert the image from RGB to HSV.\n",
    "Define a Range for Blue-ish Colors: Set a threshold to capture blue-ish objects based on their hue values.\n",
    "Create a Mask: Apply the mask to filter out all pixels except the blue-ish ones.\n",
    "Find Contours: Detect contours in the mask to identify individual blue objects.\n",
    "Count and Display Results: Finally, count and display the number of contours (blue objects)."
   ]
  },
  {
   "cell_type": "markdown",
   "id": "bd8f848d-0d55-4c0e-b39e-fd7febad56ce",
   "metadata": {},
   "source": [
    "### Question 3) Compute and show the automated threshold values for each RGB channel on the following image (RGB.jpg)."
   ]
  },
  {
   "cell_type": "code",
   "execution_count": 136,
   "id": "20a92100-14bb-454b-9837-5fda1e8ee94f",
   "metadata": {},
   "outputs": [],
   "source": [
    "# Load the image\n",
    "img_rgb = cv2.imread('RGB.jpg')"
   ]
  },
  {
   "cell_type": "code",
   "execution_count": 138,
   "id": "c39ccc08-356b-41b4-8435-650ed0f3e95f",
   "metadata": {},
   "outputs": [],
   "source": [
    "# Split the image into RGB channels\n",
    "red, green, blue = cv2.split(img_rgb)"
   ]
  },
  {
   "cell_type": "code",
   "execution_count": 140,
   "id": "a36b506e-2589-4c6f-bca8-866cb7362fce",
   "metadata": {},
   "outputs": [],
   "source": [
    "# Applying Otsu's thresholding method to each channel\n",
    "_, thresh_red = cv2.threshold(r, 0, 255, cv2.THRESH_BINARY + cv2.THRESH_OTSU)\n",
    "_, thresh_green = cv2.threshold(g, 0, 255, cv2.THRESH_BINARY + cv2.THRESH_OTSU)\n",
    "_, thresh_blue = cv2.threshold(b, 0, 255, cv2.THRESH_BINARY + cv2.THRESH_OTSU)"
   ]
  },
  {
   "cell_type": "code",
   "execution_count": 142,
   "id": "09c0cf3d-6497-4ed0-91d2-9e1a3ba8d03c",
   "metadata": {},
   "outputs": [
    {
     "name": "stdout",
     "output_type": "stream",
     "text": [
      "Threshold values for the RGB Image is:\n",
      "Red: 237.90700014637002\n",
      "Green: 237.90855532786884\n",
      "Blue: 237.90661135099532\n"
     ]
    }
   ],
   "source": [
    "# Print the threshold values\n",
    "print(\"Threshold values for the RGB Image is:\")\n",
    "print(\"Red:\", cv2.mean(thresh_red)[0])\n",
    "print(\"Green:\", cv2.mean(thresh_green)[0])\n",
    "print(\"Blue:\", cv2.mean(thresh_blue)[0])"
   ]
  }
 ],
 "metadata": {
  "kernelspec": {
   "display_name": "Python 3 (ipykernel)",
   "language": "python",
   "name": "python3"
  },
  "language_info": {
   "codemirror_mode": {
    "name": "ipython",
    "version": 3
   },
   "file_extension": ".py",
   "mimetype": "text/x-python",
   "name": "python",
   "nbconvert_exporter": "python",
   "pygments_lexer": "ipython3",
   "version": "3.11.7"
  }
 },
 "nbformat": 4,
 "nbformat_minor": 5
}
